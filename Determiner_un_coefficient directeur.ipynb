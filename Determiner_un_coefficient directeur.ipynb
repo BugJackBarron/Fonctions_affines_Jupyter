{
 "cells": [
  {
   "cell_type": "markdown",
   "metadata": {},
   "source": [
    "<h1><center><font color='red'> Fonctions affines et droites</font></center></h1>"
   ]
  },
  {
   "cell_type": "markdown",
   "metadata": {},
   "source": [
    "<h2><font color='red'> Utilisation des notebooks </font></h2>"
   ]
  },
  {
   "cell_type": "markdown",
   "metadata": {},
   "source": [
    "Un notebook Jupyter contient deux types de cellules. Soit des cellules de **textes formatés**, comme celle-ci, soit des cellules capables d'exécuter du code Python comme la suivante ( elle est repérable par le texte `Entrée [ ]` dans la marge). Pour exécuter une cellule Python, vous pouvez soit utiliser le bouton `Exécuter` de la barre d'outils ci-dessus, soit en utilisant la combinaison de touches `Ctrl+Entrée`. Vous pouvez essayer de déclencher la cellule suivante :"
   ]
  },
  {
   "cell_type": "code",
   "execution_count": null,
   "metadata": {},
   "outputs": [],
   "source": [
    "for i in range(5,0,-1) :\n",
    "    print(f\"Compte à rebour : {i}\")\n",
    "print(\"Bravo vous avez déclenché votre première cellule Python\")"
   ]
  },
  {
   "cell_type": "markdown",
   "metadata": {},
   "source": [
    "Si une cellule de type texte est écrite avec des symboles caballistiques, inutile d'appeler un exorciste, déclenchez-la simplement avec la combinaison de touches `Ctrl+Entrée`."
   ]
  },
  {
   "cell_type": "markdown",
   "metadata": {},
   "source": [
    "Les cellules de type Python sont donc préfixées dans la marge par `Entrée [ ]`. Entre les crochets, il y a :\n",
    "* soit rien, car la cellule n'a jamais été exécutée ;\n",
    "* soit un nombre entier, qui donne le nombre de fois ou une cellule a été exécutée ;\n",
    "* soit une étoile `*`, qui signifie que la cellule est en cours d'exécution. Dans ce cas précis, vous ne pouvez pas déclencher d'autres cellules avant que celle-ci soit terminée."
   ]
  },
  {
   "cell_type": "markdown",
   "metadata": {},
   "source": [
    "En ca  de problèmes avec le notebook, il est possible de :\n",
    "* Redémarrer et vider toutes vos réponses par le menu `Kernel | Restart & Clear output` ;\n",
    "* Redémarrer totalement par le menu `Kernel | Restart`."
   ]
  },
  {
   "cell_type": "markdown",
   "metadata": {},
   "source": [
    "<h2><font color='red'> Fonction affine, droite et coefficient directeur</font></h2>\n",
    "\n",
    "Soit $f$ une fonction affine définie par $f(x) = mx+p$.\n",
    "\n",
    "Soient $x_1$ et $x_2$ deux nombres réels quelconques tels que $x_1 \\neq x_2$.\n",
    "\n",
    "Soit $A(x_1~;~f(x_1))$ et $B(x_2~;~f(x_2))$ \n",
    "\n",
    "\n",
    "Le **coefficient directeur m** de la droite $(AB)$ représentative de la fonction $f$ est donné par la formule $$m = \\frac{f(x_2)-f(x_1)}{x_2-x_1}$$\n",
    "\n",
    "Une traduction de la formule  du **coefficient directeur** peut aussi être vue comme étant $$m = \\dfrac{\\Delta_y}{\\Delta_x}=\\dfrac{\\text{Variation des ordonnées}}{\\text{Variation des abscisses}}$$\n",
    "\n",
    "On peut alors représenter cette formule sur un graphique :\n",
    "\n",
    "<img src=\"Coeff_directeur.png\" alt=\"Coefficient Directeur\" style=\"width: 400px;\"/>"
   ]
  },
  {
   "cell_type": "markdown",
   "metadata": {},
   "source": [
    "Afin d'accéder aux exercices suivants, vous devez d'abord exécuter une fois la cellule ci-dessous. Verifiez que le champ `Entrée [ ]` de la marge contient bien une valeur numérique une fois exécutée."
   ]
  },
  {
   "cell_type": "code",
   "execution_count": null,
   "metadata": {},
   "outputs": [],
   "source": [
    "import Fct_Affine_exercices as mP"
   ]
  },
  {
   "cell_type": "markdown",
   "metadata": {},
   "source": [
    "<h3><font color=\"blue\">Application : </font></h3>\n",
    "\n",
    "La cellule IPython ci-dessous contient un exécutable qui vous permettra de comprendre le fonctionnement de la formule ci-dessus. Vous pouvez la déclencher en utilisant la combinaison de touches `CTRL+Entrée`. \n",
    "Vous pourrez alors donner des coordonnées pour des points A et B, sous la forme $(x~;~y)$ avec $x$ et $y$ entiers ou décimaux, et le programme représentera la droite $(AB)$ et calculera son coefficient directeur  $m$.\n",
    "\n",
    "N'hésitez pas à relancer plusieurs fois le test en variant les positions des points A et B."
   ]
  },
  {
   "cell_type": "code",
   "execution_count": null,
   "metadata": {},
   "outputs": [],
   "source": [
    "mP.Exemples_calculs()"
   ]
  },
  {
   "cell_type": "markdown",
   "metadata": {},
   "source": [
    "<h3><font color=\"blue\">Exercice 1 : </font></h3>\n",
    "\n",
    "Dans l'exercice suivant, une droite est donnée ainsi que deux de ses points.\n",
    "\n",
    "Donner le coefficient directeur de cette droite( sous la forme d'un entier ou d'une fraction).\n",
    "\n",
    "Il y a 10 questions, le score attendu est de 80%."
   ]
  },
  {
   "cell_type": "code",
   "execution_count": null,
   "metadata": {},
   "outputs": [],
   "source": [
    "mP.Trouve_Coeff_ES1()"
   ]
  },
  {
   "cell_type": "markdown",
   "metadata": {},
   "source": [
    "<h3><font color=\"blue\">Exercice 2 : </font></h3>\n",
    "\n",
    "Dans l'exercice suivant, une droite est donnée ainsi que deux de ses points, mais ici elle n'est pas tracée !\n",
    "\n",
    "Donner le coefficient directeur de cette droite( sous la forme d'un entier ou d'une fraction).\n",
    "\n",
    "Il y a 5 questions, le score attendu est de 80%."
   ]
  },
  {
   "cell_type": "code",
   "execution_count": null,
   "metadata": {},
   "outputs": [],
   "source": [
    "mP.Trouve_Coeff_ES2()"
   ]
  },
  {
   "cell_type": "markdown",
   "metadata": {},
   "source": [
    "<h3><font color=\"blue\">Exercice 3 : </font></h3>\n",
    "\n",
    "Dans l'exercice suivant, une droite est donnée ainsi que les coordonnées du point A.\n",
    "\n",
    "Donner les coordonnées du point B afin que le coefficient directeur de la droite $(AB)$ corresponde à celui fourni.\n",
    "\n",
    "Il y a 10 questions et le score attendu est de 80%.\n",
    "\n",
    "*Attention ! Il est effectivement facile de lire les coordonnées d'un point ! Mais si vous ne faites pas l'effort de comprendre le lien entre coefficient directeur de la droite et coordonnées des points, l'exercice suivant sera **très difficile** !*"
   ]
  },
  {
   "cell_type": "code",
   "execution_count": null,
   "metadata": {},
   "outputs": [],
   "source": [
    "mP.Exo_point_ES1()"
   ]
  },
  {
   "cell_type": "markdown",
   "metadata": {},
   "source": [
    "<h3><font color=\"blue\">Exercice 4 : </font></h3>\n",
    "\n",
    "Dans l'exercice suivant, les coordonnées d'un point A sont données.\n",
    "\n",
    "Donner les coordonnées du point B afin que le coefficient directeur de la droite $(AB)$ corresponde à celui fourni.\n",
    "\n",
    "Il y a 10 questions et le score attendu est de 80%."
   ]
  },
  {
   "cell_type": "code",
   "execution_count": null,
   "metadata": {},
   "outputs": [],
   "source": [
    "mP.Exo_point_ES2()"
   ]
  }
 ],
 "metadata": {
  "kernelspec": {
   "display_name": "Python 3",
   "language": "python",
   "name": "python3"
  },
  "language_info": {
   "codemirror_mode": {
    "name": "ipython",
    "version": 3
   },
   "file_extension": ".py",
   "mimetype": "text/x-python",
   "name": "python",
   "nbconvert_exporter": "python",
   "pygments_lexer": "ipython3",
   "version": "3.7.6"
  }
 },
 "nbformat": 4,
 "nbformat_minor": 2
}
