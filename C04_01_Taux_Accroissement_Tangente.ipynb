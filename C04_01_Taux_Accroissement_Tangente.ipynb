{
 "cells": [
  {
   "cell_type": "markdown",
   "metadata": {},
   "source": [
    "<h1><font color='red'> C04-01- Taux d'accroissement et tangentes</font></h1>\n"
   ]
  },
  {
   "cell_type": "markdown",
   "metadata": {},
   "source": [
    "Pour utiliser ce Notebook IPython, vous devez déclencher une fois la cellule suivante en utilisant la combinaison de touches `CTRL+Entrée`."
   ]
  },
  {
   "cell_type": "code",
   "execution_count": null,
   "metadata": {},
   "outputs": [],
   "source": [
    "import C04_01_mod_Python as mP"
   ]
  },
  {
   "cell_type": "markdown",
   "metadata": {},
   "source": [
    "<h2><font color='red'> 1 Rappels : Coefficient directeur d'une droite</font></h2>\n",
    "Soit $A(x_A~;~y_A)$ et $B(x_B~;~y_B)$ deux points dans un repère quelconque $(~0~;~\\vec{i}~,~\\vec{j}~)$.\n",
    "\n",
    "Le **coefficient directeur m** de la droite $(AB)$ est donné par la formule $$m = \\frac{y_B-y_A}{x_B-x_A}$$\n",
    "\n",
    "Une traduction de la formule  du **coefficient directeur** peut aussi être vue comme étant $$m = \\dfrac{\\Delta_y}{\\Delta_x}=\\dfrac{\\text{Variation des ordonnées}}{\\text{Variation des abscisses}}$$\n",
    "\n",
    "On peut alors représenter cette formule sur un graphique :\n",
    "\n",
    "<img src=\"C04_01_Coeff_Dir.png\" alt=\"Coefficient Directeur\" style=\"width: 400px;\"/>"
   ]
  },
  {
   "cell_type": "markdown",
   "metadata": {},
   "source": [
    "<h3><font color=\"blue\">Application : </font></h3>\n",
    "\n",
    "La cellule IPython ci-dessous contient un exécutable qui vous permettra de comprendre le fonctionnement de la formule ci-dessus. Vous pouvez la déclencher en utilisant la combinaison de touches `CTRL+Entrée`. \n",
    "Vous pourrez alors donner des coordonnées pour des points A et B, sous la forme $(x~;~y)$ avec $x$ et $y$ entiers ou décimaux, et le programme représentera la droite $(AB)$ et calculera son coefficient directeur  $m$.\n",
    "\n",
    "N'hésitez pas à relancer plusieurs fois le test en variant les positions des points A et B."
   ]
  },
  {
   "cell_type": "code",
   "execution_count": null,
   "metadata": {},
   "outputs": [],
   "source": [
    "mP.Exemples_calculs()"
   ]
  },
  {
   "cell_type": "markdown",
   "metadata": {},
   "source": [
    "<h3><font color=\"blue\">Exercice 1 : </font></h3>\n",
    "\n",
    "Dans l'exercice suivant, une droite est donnée ainsi que deux de ses points.\n",
    "\n",
    "Donner le coefficient directeur de cette droite( sous la forme d'un entier ou d'une fraction).\n",
    "\n",
    "Il y a 10 questions, le score attendu est de 80%."
   ]
  },
  {
   "cell_type": "code",
   "execution_count": null,
   "metadata": {},
   "outputs": [],
   "source": [
    "mP.Trouve_Coeff_ES1()"
   ]
  },
  {
   "cell_type": "markdown",
   "metadata": {},
   "source": [
    "<h3><font color=\"blue\">Exercice 2 : </font></h3>\n",
    "\n",
    "Dans l'exercice suivant, une droite est donnée ainsi que deux de ses points, mais ici elle n'est pas tracée !\n",
    "\n",
    "Donner le coefficient directeur de cette droite( sous la forme d'un entier ou d'une fraction).\n",
    "\n",
    "Il y a 5 questions, le score attendu est de 80%."
   ]
  },
  {
   "cell_type": "code",
   "execution_count": null,
   "metadata": {},
   "outputs": [],
   "source": [
    "mP.Trouve_Coeff_ES2()"
   ]
  },
  {
   "cell_type": "markdown",
   "metadata": {},
   "source": [
    "<h3><font color=\"blue\">Exercice 3 : </font></h3>\n",
    "\n",
    "Dans l'exercice suivant, une droite est donnée ainsi que les coordonnées du point A.\n",
    "\n",
    "Donner les coordonnées du point B afin que le coefficient directeur de la droite $(AB)$ corresponde à celui fourni.\n",
    "\n",
    "Il y a 10 questions et le score attendu est de 80%.\n",
    "\n",
    "*Attention ! Il est effectivement facile de lire les coordonnées d'un point ! Mais si vous ne faites pas l'effort de comprendre le lien entre coefficient directeur de la droite et coordonnées des points, l'exercice suivant sera **très difficile** !*"
   ]
  },
  {
   "cell_type": "code",
   "execution_count": null,
   "metadata": {},
   "outputs": [],
   "source": [
    "mP.Exo_point_ES1()"
   ]
  },
  {
   "cell_type": "markdown",
   "metadata": {},
   "source": [
    "<h3><font color=\"blue\">Exercice 4 : </font></h3>\n",
    "\n",
    "Dans l'exercice suivant, les coordonnées d'un point A sont données.\n",
    "\n",
    "Donner les coordonnées du point B afin que le coefficient directeur de la droite $(AB)$ corresponde à celui fourni.\n",
    "\n",
    "Il y a 10 questions et le score attendu est de 80%."
   ]
  },
  {
   "cell_type": "code",
   "execution_count": null,
   "metadata": {},
   "outputs": [],
   "source": [
    "mP.Exo_point_ES2()"
   ]
  }
 ],
 "metadata": {
  "kernelspec": {
   "display_name": "Python 3",
   "language": "python",
   "name": "python3"
  },
  "language_info": {
   "codemirror_mode": {
    "name": "ipython",
    "version": 3
   },
   "file_extension": ".py",
   "mimetype": "text/x-python",
   "name": "python",
   "nbconvert_exporter": "python",
   "pygments_lexer": "ipython3",
   "version": "3.5.3"
  }
 },
 "nbformat": 4,
 "nbformat_minor": 2
}
